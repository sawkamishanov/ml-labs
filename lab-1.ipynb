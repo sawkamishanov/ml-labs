{
 "cells": [
  {
   "cell_type": "markdown",
   "metadata": {},
   "source": [
    "## Лабораторная работа №1. Предобработка данных."
   ]
  },
  {
   "cell_type": "code",
   "execution_count": 8,
   "metadata": {},
   "outputs": [],
   "source": [
    "import pandas as pd\n",
    "import numpy as np\n",
    "import matplotlib.pyplot as plt\n",
    "from sklearn import preprocessing"
   ]
  },
  {
   "cell_type": "code",
   "execution_count": 7,
   "metadata": {
    "tags": []
   },
   "outputs": [
    {
     "data": {
      "text/html": [
       "<div>\n",
       "<style scoped>\n",
       "    .dataframe tbody tr th:only-of-type {\n",
       "        vertical-align: middle;\n",
       "    }\n",
       "\n",
       "    .dataframe tbody tr th {\n",
       "        vertical-align: top;\n",
       "    }\n",
       "\n",
       "    .dataframe thead th {\n",
       "        text-align: right;\n",
       "    }\n",
       "</style>\n",
       "<table border=\"1\" class=\"dataframe\">\n",
       "  <thead>\n",
       "    <tr style=\"text-align: right;\">\n",
       "      <th></th>\n",
       "      <th>age</th>\n",
       "      <th>creatinine_phosphokinase</th>\n",
       "      <th>ejection_fraction</th>\n",
       "      <th>platelets</th>\n",
       "      <th>serum_creatinine</th>\n",
       "      <th>serum_sodium</th>\n",
       "    </tr>\n",
       "  </thead>\n",
       "  <tbody>\n",
       "    <tr>\n",
       "      <th>0</th>\n",
       "      <td>75.0</td>\n",
       "      <td>582</td>\n",
       "      <td>20</td>\n",
       "      <td>265000.00</td>\n",
       "      <td>1.9</td>\n",
       "      <td>130</td>\n",
       "    </tr>\n",
       "    <tr>\n",
       "      <th>1</th>\n",
       "      <td>55.0</td>\n",
       "      <td>7861</td>\n",
       "      <td>38</td>\n",
       "      <td>263358.03</td>\n",
       "      <td>1.1</td>\n",
       "      <td>136</td>\n",
       "    </tr>\n",
       "    <tr>\n",
       "      <th>2</th>\n",
       "      <td>65.0</td>\n",
       "      <td>146</td>\n",
       "      <td>20</td>\n",
       "      <td>162000.00</td>\n",
       "      <td>1.3</td>\n",
       "      <td>129</td>\n",
       "    </tr>\n",
       "    <tr>\n",
       "      <th>3</th>\n",
       "      <td>50.0</td>\n",
       "      <td>111</td>\n",
       "      <td>20</td>\n",
       "      <td>210000.00</td>\n",
       "      <td>1.9</td>\n",
       "      <td>137</td>\n",
       "    </tr>\n",
       "    <tr>\n",
       "      <th>4</th>\n",
       "      <td>65.0</td>\n",
       "      <td>160</td>\n",
       "      <td>20</td>\n",
       "      <td>327000.00</td>\n",
       "      <td>2.7</td>\n",
       "      <td>116</td>\n",
       "    </tr>\n",
       "  </tbody>\n",
       "</table>\n",
       "</div>"
      ],
      "text/plain": [
       "    age  creatinine_phosphokinase  ejection_fraction  platelets  \\\n",
       "0  75.0                       582                 20  265000.00   \n",
       "1  55.0                      7861                 38  263358.03   \n",
       "2  65.0                       146                 20  162000.00   \n",
       "3  50.0                       111                 20  210000.00   \n",
       "4  65.0                       160                 20  327000.00   \n",
       "\n",
       "   serum_creatinine  serum_sodium  \n",
       "0               1.9           130  \n",
       "1               1.1           136  \n",
       "2               1.3           129  \n",
       "3               1.9           137  \n",
       "4               2.7           116  "
      ]
     },
     "execution_count": 7,
     "metadata": {},
     "output_type": "execute_result"
    }
   ],
   "source": [
    "df = pd.read_csv('datasets/archive/heart_failure_clinical_records_dataset.csv')\n",
    "\n",
    "df = df.drop(columns = ['anaemia','diabetes','high_blood_pressure','sex','smoking','time','DEATH_EVENT'])"
   ]
  },
  {
   "cell_type": "code",
   "execution_count": null,
   "metadata": {},
   "outputs": [],
   "source": []
  },
  {
   "cell_type": "code",
   "execution_count": 3,
   "metadata": {},
   "outputs": [
    {
     "data": {
      "image/png": "[encoded data removed]",
      "text/plain": [
       "<Figure size 432x288 with 6 Axes>"
      ]
     },
     "metadata": {
      "needs_background": "light"
     },
     "output_type": "display_data"
    }
   ],
   "source": [
    "n_bins = 20\n",
    "\n",
    "fig, axs = plt.subplots(2, 3)\n",
    "\n",
    "axs[0, 0].hist(df['age'].values, bins = n_bins)\n",
    "axs[0, 0].set_title('age')\n",
    "axs[0, 1].hist(df['creatinine_phosphokinase'].values, bins = n_bins)\n",
    "axs[0, 1].set_title('creatinine_phosphokinase')\n",
    "axs[0, 2].hist(df['ejection_fraction'].values, bins = n_bins)\n",
    "axs[0, 2].set_title('ejection_fraction')\n",
    "axs[1, 0].hist(df['platelets'].values, bins = n_bins)\n",
    "axs[1, 0].set_title('platelets')\n",
    "axs[1, 1].hist(df['serum_creatinine'].values, bins = n_bins)\n",
    "axs[1, 1].set_title('serum_creatinine')\n",
    "axs[1, 2].hist(df['serum_sodium'].values, bins = n_bins)\n",
    "axs[1, 2].set_title('serum_sodium')\n",
    "fig.tight_layout()\n",
    "plt.show()"
   ]
  },
  {
   "cell_type": "code",
   "execution_count": 4,
   "metadata": {
    "tags": []
   },
   "outputs": [
    {
     "name": "stdout",
     "output_type": "stream",
     "text": [
      "[[7.5000000e+01 5.8200000e+02 2.0000000e+01 2.6500000e+05 1.9000000e+00\n",
      "  1.3000000e+02]\n",
      " [5.5000000e+01 7.8610000e+03 3.8000000e+01 2.6335803e+05 1.1000000e+00\n",
      "  1.3600000e+02]\n",
      " [6.5000000e+01 1.4600000e+02 2.0000000e+01 1.6200000e+05 1.3000000e+00\n",
      "  1.2900000e+02]\n",
      " ...\n",
      " [4.5000000e+01 2.0600000e+03 6.0000000e+01 7.4200000e+05 8.0000000e-01\n",
      "  1.3800000e+02]\n",
      " [4.5000000e+01 2.4130000e+03 3.8000000e+01 1.4000000e+05 1.4000000e+00\n",
      "  1.4000000e+02]\n",
      " [5.0000000e+01 1.9600000e+02 4.5000000e+01 3.9500000e+05 1.6000000e+00\n",
      "  1.3600000e+02]]\n"
     ]
    }
   ],
   "source": [
    "data = df.to_numpy(dtype='float')\n",
    "\n",
    "print(data)"
   ]
  },
  {
   "cell_type": "code",
   "execution_count": 5,
   "metadata": {},
   "outputs": [],
   "source": [
    "scaler = preprocessing.StandardScaler().fit(data[:150, :])\n",
    "data_scaled = scaler.transform(data)"
   ]
  },
  {
   "cell_type": "code",
   "execution_count": 6,
   "metadata": {},
   "outputs": [
    {
     "data": {
      "image/png": "[encoded data removed]",
      "text/plain": [
       "<Figure size 432x288 with 6 Axes>"
      ]
     },
     "metadata": {
      "needs_background": "light"
     },
     "output_type": "display_data"
    }
   ],
   "source": [
    "fig, axs = plt.subplots(2,3)\n",
    "\n",
    "axs[0, 0].hist(data_scaled[:,0], bins = n_bins)\n",
    "axs[0, 0].set_title('age')\n",
    "\n",
    "axs[0, 1].hist(data_scaled[:,1], bins = n_bins)\n",
    "axs[0, 1].set_title('creatinine_phosphokinase')\n",
    "\n",
    "axs[0, 2].hist(data_scaled[:,2], bins = n_bins)\n",
    "axs[0, 2].set_title('ejection_fraction')\n",
    "\n",
    "axs[1, 0].hist(data_scaled[:,3], bins = n_bins)\n",
    "axs[1, 0].set_title('platelets')\n",
    "\n",
    "axs[1, 1].hist(data_scaled[:,4], bins = n_bins)\n",
    "axs[1, 1].set_title('serum_creatinine')\n",
    "\n",
    "axs[1, 2].hist(data_scaled[:,5], bins = n_bins)\n",
    "axs[1, 2].set_title('serum_sodium')\n",
    "\n",
    "fig.tight_layout()\n",
    "plt.show()"
   ]
  }
 ],
 "metadata": {
  "kernelspec": {
   "display_name": "Python 3",
   "language": "python",
   "name": "python3"
  },
  "language_info": {
   "codemirror_mode": {
    "name": "ipython",
    "version": 3
   },
   "file_extension": ".py",
   "mimetype": "text/x-python",
   "name": "python",
   "nbconvert_exporter": "python",
   "pygments_lexer": "ipython3",
   "version": "3.8.3"
  }
 },
 "nbformat": 4,
 "nbformat_minor": 2
}
